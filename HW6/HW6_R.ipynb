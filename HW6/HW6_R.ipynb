{
  "nbformat": 4,
  "nbformat_minor": 0,
  "metadata": {
    "colab": {
      "provenance": [],
      "authorship_tag": "ABX9TyNjcKtgs3NTHys4gMmKdXYI",
      "include_colab_link": true
    },
    "kernelspec": {
      "name": "ir",
      "display_name": "R"
    },
    "language_info": {
      "name": "R"
    }
  },
  "cells": [
    {
      "cell_type": "markdown",
      "metadata": {
        "id": "view-in-github",
        "colab_type": "text"
      },
      "source": [
        "<a href=\"https://colab.research.google.com/github/chrisfinan/IDS/blob/main/HW6/HW6_R.ipynb\" target=\"_parent\"><img src=\"https://colab.research.google.com/assets/colab-badge.svg\" alt=\"Open In Colab\"/></a>"
      ]
    },
    {
      "cell_type": "markdown",
      "source": [
        "Chris Finan\n",
        "\n",
        "> 12/11/23\n",
        "\n",
        "> Project 6"
      ],
      "metadata": {
        "id": "QxYp0FgAv9wt"
      }
    },
    {
      "cell_type": "markdown",
      "source": [
        "###Description\n",
        "\n",
        "> In this problem, you will work with the loans_training and loans_test datasets found here: https://github.com/bforoura/IDS/tree/main/HW6\n",
        "\n",
        "> I will be creating CART and C5 models, displaying decision trees, evaluating their splits and evaluating the accuracy of each model.\n",
        "\n"
      ],
      "metadata": {
        "id": "7x28Ig8IwFT0"
      }
    },
    {
      "cell_type": "code",
      "execution_count": 203,
      "metadata": {
        "id": "KbaO9vkgv6lE"
      },
      "outputs": [],
      "source": [
        "# Let's read in the data files\n",
        "library(readr)\n",
        "loans_test <- read_csv(\"https://raw.githubusercontent.com/bforoura/IDS/main/HW6/Loans_Test.csv\", show_col_types = FALSE)\n",
        "\n",
        "loans_training <- read_csv(\"https://raw.githubusercontent.com/bforoura/IDS/main/HW6/Loans_Training.csv\", show_col_types = FALSE)\n"
      ]
    },
    {
      "cell_type": "code",
      "source": [
        "# Convert to data frame and summarize\n",
        "summary(loans_test)"
      ],
      "metadata": {
        "colab": {
          "base_uri": "https://localhost:8080/",
          "height": 260
        },
        "id": "F0flxK0mzUqb",
        "outputId": "fba9910f-e5a8-403f-ccf1-3194221a15b3"
      },
      "execution_count": 204,
      "outputs": [
        {
          "output_type": "display_data",
          "data": {
            "text/plain": [
              "  Approval       Debt-to-Income Ratio   FICO Score    Request Amount \n",
              " Mode :logical   Min.   :0.0000       Min.   :372.0   Min.   :  500  \n",
              " FALSE:24934     1st Qu.:0.0900       1st Qu.:647.0   1st Qu.: 6000  \n",
              " TRUE :24764     Median :0.1600       Median :684.0   Median :11000  \n",
              "                 Mean   :0.1831       Mean   :672.3   Mean   :13413  \n",
              "                 3rd Qu.:0.2400       3rd Qu.:714.0   3rd Qu.:19000  \n",
              "                 Max.   :1.0500       Max.   :866.0   Max.   :42000  \n",
              "    Interest    \n",
              " Min.   :  225  \n",
              " 1st Qu.: 2700  \n",
              " Median : 4950  \n",
              " Mean   : 6036  \n",
              " 3rd Qu.: 8550  \n",
              " Max.   :18900  "
            ]
          },
          "metadata": {}
        }
      ]
    },
    {
      "cell_type": "code",
      "source": [
        "# Convert to data frame and summarize\n",
        "summary(loans_training)"
      ],
      "metadata": {
        "colab": {
          "base_uri": "https://localhost:8080/",
          "height": 260
        },
        "id": "KSWz7u3Fze90",
        "outputId": "4b9a27ee-6298-4eeb-854e-7688739fa244"
      },
      "execution_count": 205,
      "outputs": [
        {
          "output_type": "display_data",
          "data": {
            "text/plain": [
              "  Approval       Debt-to-Income Ratio   FICO Score  Request Amount \n",
              " Mode :logical   Min.   :0.0000       Min.   :371   Min.   :  500  \n",
              " FALSE:75066     1st Qu.:0.0900       1st Qu.:647   1st Qu.: 6000  \n",
              " TRUE :75236     Median :0.1600       Median :684   Median :11000  \n",
              "                 Mean   :0.1835       Mean   :672   Mean   :13427  \n",
              "                 3rd Qu.:0.2400       3rd Qu.:714   3rd Qu.:19000  \n",
              "                 Max.   :1.0300       Max.   :869   Max.   :44000  \n",
              "    Interest    \n",
              " Min.   :  225  \n",
              " 1st Qu.: 2700  \n",
              " Median : 4950  \n",
              " Mean   : 6042  \n",
              " 3rd Qu.: 8550  \n",
              " Max.   :19800  "
            ]
          },
          "metadata": {}
        }
      ]
    },
    {
      "cell_type": "markdown",
      "source": [
        "## 1. Create a CART model using the training data set that predicts Approval using Debt-to-Income Ratio, FICO Score, etc. Visualize the decision tree and Describe the first few splits in the decision tree."
      ],
      "metadata": {
        "id": "ru-RHR2GzJ0B"
      }
    },
    {
      "cell_type": "code",
      "source": [
        "#access necessary libraries to create the CART model\n",
        "library(rpart)\n",
        "install.packages(\"rpart.plot\")\n",
        "library(rpart.plot)"
      ],
      "metadata": {
        "colab": {
          "base_uri": "https://localhost:8080/"
        },
        "id": "4xrxf3kX1bMf",
        "outputId": "5ed4c16c-0703-49ff-a628-a37b606c7dc9"
      },
      "execution_count": 206,
      "outputs": [
        {
          "output_type": "stream",
          "name": "stderr",
          "text": [
            "Installing package into ‘/usr/local/lib/R/site-library’\n",
            "(as ‘lib’ is unspecified)\n",
            "\n"
          ]
        }
      ]
    },
    {
      "cell_type": "code",
      "source": [
        "#create the CART model with Approval as the target and all other variables as the x values\n",
        "cart_model <- rpart(Approval ~ `Debt-to-Income Ratio` + `FICO Score` + `Request Amount` + Interest, data = loans_training, method = \"class\")\n",
        "\n",
        "#visualize the decision tree\n",
        "prp(cart_model)"
      ],
      "metadata": {
        "colab": {
          "base_uri": "https://localhost:8080/",
          "height": 437
        },
        "id": "H5JfszsU1eBy",
        "outputId": "ab968834-1984-404a-986e-353538a63a72"
      },
      "execution_count": 207,
      "outputs": [
        {
          "output_type": "display_data",
          "data": {
            "text/plain": [
              "plot without title"
            ],
            "image/png": "[encoded data removed]"
          },
          "metadata": {
            "image/png": {
              "width": 420,
              "height": 420
            }
          }
        }
      ]
    },
    {
      "cell_type": "markdown",
      "source": [
        "As you can see, FICO Score is the most important variable with a value of 74. The first split was FICO Score < 660. The expected loss value for each node represents the impurity of it. It is similar to gini or entropy. The expected loss of the root node before the first split is 0.499 which is basically a 50-50 split. The leftmost leaf node is false and has a very low expected loss, so it does not need to be split again. The right node after this split has a value of about 0.3 which is not great, so it is split again. The second most important variable is Debt-to-Income Ratio with a value of 25. It is used in the second decision tree split where Debt-to-Income Ratio >= 0.31. This split leads to two leaf nodes and the decision tree ending."
      ],
      "metadata": {
        "id": "Rd5cMYmu6aql"
      }
    },
    {
      "cell_type": "code",
      "source": [
        "summary(cart_model)"
      ],
      "metadata": {
        "colab": {
          "base_uri": "https://localhost:8080/"
        },
        "id": "uHu0yKhw3K58",
        "outputId": "7874f6a0-750c-433c-d4b5-e6fc0143e44c"
      },
      "execution_count": 208,
      "outputs": [
        {
          "output_type": "stream",
          "name": "stdout",
          "text": [
            "Call:\n",
            "rpart(formula = Approval ~ `Debt-to-Income Ratio` + `FICO Score` + \n",
            "    `Request Amount` + Interest, data = loans_training, method = \"class\")\n",
            "  n= 150302 \n",
            "\n",
            "         CP nsplit rel error    xerror        xstd\n",
            "1 0.5646498      0 1.0000000 1.0052221 0.002582293\n",
            "2 0.1267551      1 0.4353502 0.4353502 0.002130393\n",
            "3 0.0100000      2 0.3085951 0.3085951 0.001864775\n",
            "\n",
            "Variable importance\n",
            "          FICO Score Debt-to-Income Ratio \n",
            "                  74                   25 \n",
            "\n",
            "Node number 1: 150302 observations,    complexity param=0.5646498\n",
            "  predicted class=TRUE   expected loss=0.4994345  P(node) =1\n",
            "    class counts: 75066 75236\n",
            "   probabilities: 0.499 0.501 \n",
            "  left son=2 (46002 obs) right son=3 (104300 obs)\n",
            "  Primary splits:\n",
            "      FICO Score           < 659.5 to the left,  improve=28208.770, (0 missing)\n",
            "      Debt-to-Income Ratio < 0.305 to the right, improve= 8986.886, (0 missing)\n",
            "      Request Amount       < 25500 to the right, improve= 1191.854, (0 missing)\n",
            "      Interest             < 11475 to the right, improve= 1191.854, (0 missing)\n",
            "  Surrogate splits:\n",
            "      Request Amount       < 1500  to the left,  agree=0.696, adj=0.006, (0 split)\n",
            "      Interest             < 675   to the left,  agree=0.696, adj=0.006, (0 split)\n",
            "      Debt-to-Income Ratio < 1.005 to the right, agree=0.694, adj=0.000, (0 split)\n",
            "\n",
            "Node number 2: 46002 observations\n",
            "  predicted class=FALSE  expected loss=0.03930264  P(node) =0.3060638\n",
            "    class counts: 44194  1808\n",
            "   probabilities: 0.961 0.039 \n",
            "\n",
            "Node number 3: 104300 observations,    complexity param=0.1267551\n",
            "  predicted class=TRUE   expected loss=0.2959923  P(node) =0.6939362\n",
            "    class counts: 30872 73428\n",
            "   probabilities: 0.296 0.704 \n",
            "  left son=6 (12873 obs) right son=7 (91427 obs)\n",
            "  Primary splits:\n",
            "      Debt-to-Income Ratio < 0.305 to the right, improve=9662.8910, (0 missing)\n",
            "      Request Amount       < 24500 to the right, improve=1893.6700, (0 missing)\n",
            "      Interest             < 11025 to the right, improve=1893.6700, (0 missing)\n",
            "      FICO Score           < 671.5 to the left,  improve= 829.7591, (0 missing)\n",
            "\n",
            "Node number 6: 12873 observations\n",
            "  predicted class=FALSE  expected loss=0.130428  P(node) =0.08564756\n",
            "    class counts: 11194  1679\n",
            "   probabilities: 0.870 0.130 \n",
            "\n",
            "Node number 7: 91427 observations\n",
            "  predicted class=TRUE   expected loss=0.2152318  P(node) =0.6082886\n",
            "    class counts: 19678 71749\n",
            "   probabilities: 0.215 0.785 \n",
            "\n"
          ]
        }
      ]
    },
    {
      "cell_type": "markdown",
      "source": [
        "Using the testing dataframe, we can make predictions and evaluate the accuracy on the CART model."
      ],
      "metadata": {
        "id": "euej8pZPydwU"
      }
    },
    {
      "cell_type": "code",
      "source": [
        "#factor approval testing data\n",
        "loans_test$Approval <- factor(loans_test$Approval)\n",
        "\n",
        "#use predict function to create predictions with the testing set\n",
        "predictions <- predict(cart_model, newdata = loans_test, type =\"class\")\n",
        "\n",
        "#check the accuracy of the predictions\n",
        "accuracy <- mean(predictions == loans_test$Approval)\n",
        "\n",
        "#print accuracy\n",
        "cat(\"CART Testing Accuracy: \", accuracy)\n"
      ],
      "metadata": {
        "colab": {
          "base_uri": "https://localhost:8080/"
        },
        "id": "u7GhwRnggFNl",
        "outputId": "0e373a6b-07ea-4007-c1e8-24f4f65eb4e3"
      },
      "execution_count": 209,
      "outputs": [
        {
          "output_type": "stream",
          "name": "stdout",
          "text": [
            "CART Testing Accuracy:  0.8432331"
          ]
        }
      ]
    },
    {
      "cell_type": "markdown",
      "source": [
        "## 2. Build a C5.0 model using the same predictors and target as in part 1.  This time, specify a minimum of 1000 cases per terminal node. Visualize the decision tree. Describe the first few splits in the decision tree."
      ],
      "metadata": {
        "id": "prt85dBgBLUv"
      }
    },
    {
      "cell_type": "code",
      "source": [
        "#access packages for c5 model\n",
        "install.packages(\"C50\")\n",
        "library(C50)"
      ],
      "metadata": {
        "colab": {
          "base_uri": "https://localhost:8080/"
        },
        "id": "6ECigD5uBoGO",
        "outputId": "b8f94e7c-35e4-4573-f2aa-241c13d364a9"
      },
      "execution_count": 210,
      "outputs": [
        {
          "output_type": "stream",
          "name": "stderr",
          "text": [
            "Installing package into ‘/usr/local/lib/R/site-library’\n",
            "(as ‘lib’ is unspecified)\n",
            "\n"
          ]
        }
      ]
    },
    {
      "cell_type": "code",
      "source": [
        "#had an error that said target needs to be factored\n",
        "loans_training$Approval <- factor(loans_training$Approval)\n",
        "\n",
        "#create the c5 model with 1000 minimum cases\n",
        "c5_model <- C5.0(Approval ~ `Debt-to-Income Ratio` + `FICO Score` + `Request Amount` + Interest, data = loans_training, control = C5.0Control(minCases = 1000))\n",
        "\n",
        "#plot the c5 model (some parts overlap)\n",
        "plot(c5_model)"
      ],
      "metadata": {
        "colab": {
          "base_uri": "https://localhost:8080/",
          "height": 437
        },
        "id": "CnU7cl52DGW0",
        "outputId": "e68dd7c1-6cc1-47c3-ade6-1482cbe202cf"
      },
      "execution_count": 211,
      "outputs": [
        {
          "output_type": "display_data",
          "data": {
            "text/plain": [
              "plot without title"
            ],
            "image/png": "[encoded data removed]"
          },
          "metadata": {
            "image/png": {
              "width": 420,
              "height": 420
            }
          }
        }
      ]
    },
    {
      "cell_type": "markdown",
      "source": [
        "Unfortunately the bottom of the decision tree overlaps itself and makes it harder to read. In this decision tree, the first split is based on Debt-to-Income Ratio with the threshold being 0.31. The node that is >0.31 becomes a leaf node but is cut off at the bottom. There is a good split and it does not need to be split again (FALSE: 19884/1160). The second split uses FICO Score at 655. It makes one leaf node (<=655) (FALSE: 35346/894) and continues splitting with the other node (>655). The ratios that I am showing in parentheses show the purity of the nodes. Those ratios are similar to that of entropy. FICO Score is used 3 different times to split the data while Debt-to-Income Ratio is used twice. Request Amount is also used twice towards the bottom. However in the \"Attribute usage\" below, Debt-to-Income Ratio is listed with the highest percent:\n",
        "- 100.00%\tDebt-to-Income Ratio\n",
        "- 86.77%\tFICO Score\n",
        "- 12.79%\tRequest Amount"
      ],
      "metadata": {
        "id": "ixb5gblhI3hz"
      }
    },
    {
      "cell_type": "code",
      "source": [
        "#print the summary of the c5 model\n",
        "summary(c5_model)"
      ],
      "metadata": {
        "colab": {
          "base_uri": "https://localhost:8080/",
          "height": 972
        },
        "id": "4B8skd7MFll7",
        "outputId": "6b041828-7678-43ca-d3ee-12f95812bd15"
      },
      "execution_count": 212,
      "outputs": [
        {
          "output_type": "display_data",
          "data": {
            "text/plain": [
              "\n",
              "Call:\n",
              "C5.0.formula(formula = Approval ~ `Debt-to-Income Ratio` + `FICO Score`\n",
              " + `Request Amount` + Interest, data = loans_training, control\n",
              " = C5.0Control(minCases = 1000))\n",
              "\n",
              "\n",
              "C5.0 [Release 2.07 GPL Edition]  \tTue Dec 12 02:21:54 2023\n",
              "-------------------------------\n",
              "\n",
              "Class specified by attribute `outcome'\n",
              "\n",
              "Read 150302 cases (5 attributes) from undefined.data\n",
              "\n",
              "Decision tree:\n",
              "\n",
              "Debt-to-Income Ratio > 0.31: FALSE (19884/1160)\n",
              "Debt-to-Income Ratio <= 0.31:\n",
              ":...FICO Score <= 655: FALSE (35346/894)\n",
              "    FICO Score > 655:\n",
              "    :...FICO Score <= 669:\n",
              "        :...Request Amount > 23000: FALSE (1547/529)\n",
              "        :   Request Amount <= 23000:\n",
              "        :   :...FICO Score <= 661: FALSE (3246/1418)\n",
              "        :       FICO Score > 661: TRUE (5892/2056)\n",
              "        FICO Score > 669:\n",
              "        :...Debt-to-Income Ratio <= 0.25: TRUE (75846/13356)\n",
              "            Debt-to-Income Ratio > 0.25:\n",
              "            :...Request Amount <= 25000: TRUE (7112/2658)\n",
              "                Request Amount > 25000: FALSE (1429/455)\n",
              "\n",
              "\n",
              "Evaluation on training data (150302 cases):\n",
              "\n",
              "\t    Decision Tree   \n",
              "\t  ----------------  \n",
              "\t  Size      Errors  \n",
              "\n",
              "\t     8 22526(15.0%)   <<\n",
              "\n",
              "\n",
              "\t   (a)   (b)    <-classified as\n",
              "\t  ----  ----\n",
              "\t 56996 18070    (a): class FALSE\n",
              "\t  4456 70780    (b): class TRUE\n",
              "\n",
              "\n",
              "\tAttribute usage:\n",
              "\n",
              "\t100.00%\tDebt-to-Income Ratio\n",
              "\t 86.77%\tFICO Score\n",
              "\t 12.79%\tRequest Amount\n",
              "\n",
              "\n",
              "Time: 0.4 secs\n"
            ]
          },
          "metadata": {}
        }
      ]
    },
    {
      "cell_type": "markdown",
      "source": [
        "Using the testing dataframe, we can make predictions and evaluate the accuracy on the C5 model."
      ],
      "metadata": {
        "id": "9Ny0YuY9z7GP"
      }
    },
    {
      "cell_type": "code",
      "source": [
        "#don't need to factor again because that column was already taken care of above\n",
        "#use predict function to create predictions with the testing set\n",
        "predictions <- predict(c5_model, newdata = loans_test, type =\"class\")\n",
        "\n",
        "#check the accuracy of the predictions\n",
        "accuracy <- mean(predictions == loans_test$Approval)\n",
        "\n",
        "#print accuracy\n",
        "cat(\"C5 Testing Accuracy: \", accuracy)"
      ],
      "metadata": {
        "colab": {
          "base_uri": "https://localhost:8080/"
        },
        "id": "NDVyjoVmy9H5",
        "outputId": "0d02b330-635a-4239-f59e-16d3c9736ef8"
      },
      "execution_count": 213,
      "outputs": [
        {
          "output_type": "stream",
          "name": "stdout",
          "text": [
            "C5 Testing Accuracy:  0.8471568"
          ]
        }
      ]
    },
    {
      "cell_type": "markdown",
      "source": [
        "## 3. How does your C5.0 model compare to your CART model for the loans_training data? Describe the similarities and differences."
      ],
      "metadata": {
        "id": "_ueart6bNyaZ"
      }
    },
    {
      "cell_type": "markdown",
      "source": [
        "- FICO score is seen as the most important variable for the CART model where Debt-to-Income Ratio seems to be higher in importance for the C5 model. Those most important variables were also used as the first split in each tree respectively.\n",
        "- Both models used very close to the same numbers for their splitting thresholds even though they were in a different order.\n",
        "- The CART model did not use Request Amount when splitting.\n",
        "- The C5 model displayed many more nodes and splits than the CART model\n",
        "- CART displayed 5 nodes and listed 7 in the summary\n",
        "- C5 displayed 7 nodes and listed 14 in the summary (the lines are drawn in the picture but the nodes are cut off)\n",
        "- The first two leaf nodes for both models are labeled as FALSE\n",
        "- The C5 model is slightly more accurate on the testing values than the CART model - C5=0.847 / CART=0.843"
      ],
      "metadata": {
        "id": "w9NBqovjN3IA"
      }
    }
  ]
}