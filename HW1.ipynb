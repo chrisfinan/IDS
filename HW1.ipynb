{
  "nbformat": 4,
  "nbformat_minor": 0,
  "metadata": {
    "colab": {
      "provenance": [],
      "authorship_tag": "ABX9TyP1yUESttBcbu1N+qG3PeK0",
      "include_colab_link": true
    },
    "kernelspec": {
      "name": "python3",
      "display_name": "Python 3"
    },
    "language_info": {
      "name": "python"
    }
  },
  "cells": [
    {
      "cell_type": "markdown",
      "metadata": {
        "id": "view-in-github",
        "colab_type": "text"
      },
      "source": [
        "<a href=\"https://colab.research.google.com/github/chrisfinan/IDS/blob/main/HW1.ipynb\" target=\"_parent\"><img src=\"https://colab.research.google.com/assets/colab-badge.svg\" alt=\"Open In Colab\"/></a>"
      ]
    },
    {
      "cell_type": "code",
      "execution_count": null,
      "metadata": {
        "id": "ojKNSnah66da"
      },
      "outputs": [],
      "source": []
    },
    {
      "cell_type": "markdown",
      "source": [
        "Chris Finan\n",
        "> Homework 1\n",
        "\n",
        "> 9/7/23"
      ],
      "metadata": {
        "id": "78Vdc0EG67Uf"
      }
    },
    {
      "cell_type": "markdown",
      "source": [
        "Description:\n",
        "\n",
        "\n",
        "> In this assignment, I analyze two data sets (chicken weight based on feed / insurance companies based on their ratings). This includes finding the minimum, maximum and average values of each given category.\n",
        "\n"
      ],
      "metadata": {
        "id": "fgB5QYiM_Bwa"
      }
    },
    {
      "cell_type": "markdown",
      "source": [
        "Problem 1 Conclusion:\n",
        "\n",
        "\n",
        "> Based on the chicken feed data, it appears that feeding the chickens sunflower feed would be most beneficial for a thriving poultry business. The minimum weight of this group of chickens is 226, which is the most of all the tested groups. The average weight (328.9) and maximum weight (423) are also the highest compared to the other tested groups. Heavier chickens will most likely lead to more meat, which would lead to a more efficient and successful poultry business.\n",
        "\n"
      ],
      "metadata": {
        "id": "c4rUIAag_kL7"
      }
    },
    {
      "cell_type": "markdown",
      "source": [
        "Problem 2 Conclusion:\n",
        "\n",
        "\n",
        "> Based on the auto insurance provider information provided, it seems as if Progressive would be the best option. While GEICO has the highest max rating (9.2 out of 10), Progressive's minimum rating (6.7) and mean rating (7.7) are the highest out of the three companies. Progressive has the least amount of disproval, which makes it the safest option to go with in this case.\n",
        "\n"
      ],
      "metadata": {
        "id": "0PKXbkrwCQBF"
      }
    }
  ]
}