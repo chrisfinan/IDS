{
  "nbformat": 4,
  "nbformat_minor": 0,
  "metadata": {
    "colab": {
      "provenance": [],
      "authorship_tag": "ABX9TyMyRwKOJlvaLE7Db5v0iqQD",
      "include_colab_link": true
    },
    "kernelspec": {
      "name": "ir",
      "display_name": "R"
    },
    "language_info": {
      "name": "R"
    }
  },
  "cells": [
    {
      "cell_type": "markdown",
      "metadata": {
        "id": "view-in-github",
        "colab_type": "text"
      },
      "source": [
        "<a href=\"https://colab.research.google.com/github/chrisfinan/IDS/blob/main/HW4/problem2_r_ipynp.ipynb\" target=\"_parent\"><img src=\"https://colab.research.google.com/assets/colab-badge.svg\" alt=\"Open In Colab\"/></a>"
      ]
    },
    {
      "cell_type": "markdown",
      "source": [
        "Chris Finan\n",
        "\n",
        "> 11/3/23\n",
        "\n",
        "> Project 4\n"
      ],
      "metadata": {
        "id": "okx6F6c6peSS"
      }
    },
    {
      "cell_type": "markdown",
      "source": [
        "## Description\n",
        "\n",
        "\n",
        "> In this notebook I will analyze a dataset on nutrition in R. This includes sorting the data to get a bigger picture, as well as analyzing outliers. Some math is also used to compare columns to each other to get a better picture of the dataset and further explain it.\n"
      ],
      "metadata": {
        "id": "trIgfnk9qTHj"
      }
    },
    {
      "cell_type": "markdown",
      "source": [
        "## 1. Use the following nutrition dataset: https://github.com/bforoura/IDS/blob/main/HW4/nutrition_subset.csvLinks"
      ],
      "metadata": {
        "id": "oZIhjwPAqXpw"
      }
    },
    {
      "cell_type": "code",
      "execution_count": 28,
      "metadata": {
        "id": "PJAHKJIzo9Ts"
      },
      "outputs": [],
      "source": [
        "# Let's read in the data file\n",
        "library(readr)\n",
        "nutrition_subset <- read_csv(\"https://raw.githubusercontent.com/bforoura/IDS/main/HW4/nutrition_subset.csv\", show_col_types = FALSE)"
      ]
    },
    {
      "cell_type": "markdown",
      "source": [
        "## 2. The elements in the data set are food items of various sizes, ranging from a teaspoon of cinnamon to an entire carrot cake."
      ],
      "metadata": {
        "id": "WqsVu2SFtdPB"
      }
    },
    {
      "cell_type": "code",
      "source": [
        "#Print the data frame\n",
        "print(nutrition_subset)\n",
        "\n",
        "#Summarize and describe the data set to visualize some of its properties\n",
        "summary(nutrition_subset)"
      ],
      "metadata": {
        "colab": {
          "base_uri": "https://localhost:8080/",
          "height": 382
        },
        "id": "ejcelq38rX-B",
        "outputId": "a034f750-ce63-413c-96db-c92c9c35142b"
      },
      "execution_count": 29,
      "outputs": [
        {
          "output_type": "stream",
          "name": "stdout",
          "text": [
            "\u001b[90m# A tibble: 961 × 4\u001b[39m\n",
            "   `food item`                         weight_in_grams saturated_fat cholesterol\n",
            "   \u001b[3m\u001b[90m<chr>\u001b[39m\u001b[23m                                         \u001b[3m\u001b[90m<dbl>\u001b[39m\u001b[23m         \u001b[3m\u001b[90m<dbl>\u001b[39m\u001b[23m       \u001b[3m\u001b[90m<dbl>\u001b[39m\u001b[23m\n",
            "\u001b[90m 1\u001b[39m GELATIN; DRY                  1 EN…             7             0             0\n",
            "\u001b[90m 2\u001b[39m SEAWEED; SPIRULINA; DRIED     1 OZ             28.4           0.8           0\n",
            "\u001b[90m 3\u001b[39m YEAST; BAKERS; DRY; ACTIVE    1 PKG             7             0             0\n",
            "\u001b[90m 4\u001b[39m PARMESAN CHEESE; GRATED       1 OZ             28.4           5.4          22\n",
            "\u001b[90m 5\u001b[39m PARMESAN CHEESE; GRATED       1 CUP           100            19.1          79\n",
            "\u001b[90m 6\u001b[39m PARMESAN CHEESE; GRATED       1 TB…             5             1             4\n",
            "\u001b[90m 7\u001b[39m YEAST; BREWERS; DRY           1 TB…             8             0             0\n",
            "\u001b[90m 8\u001b[39m LAMB;CHOPS;ARM;BRAISED;LEAN   1.7 …            48             2.9          59\n",
            "\u001b[90m 9\u001b[39m TUNA; CANND; DRND;WATR; WHITE 3 OZ             85             0.3          48\n",
            "\u001b[90m10\u001b[39m NONFAT DRY MILK; INSTANTIZED  1 CUP            68             0.3          12\n",
            "\u001b[90m# ℹ 951 more rows\u001b[39m\n"
          ]
        },
        {
          "output_type": "display_data",
          "data": {
            "text/plain": [
              "  food item         weight_in_grams  saturated_fat      cholesterol     \n",
              " Length:961         Min.   :   0.4   Min.   :  0.000   Min.   :   0.00  \n",
              " Class :character   1st Qu.:  32.0   1st Qu.:  0.000   1st Qu.:   0.00  \n",
              " Mode  :character   Median : 113.0   Median :  0.400   Median :   0.00  \n",
              "                    Mean   : 149.4   Mean   :  3.988   Mean   :  32.55  \n",
              "                    3rd Qu.: 218.0   3rd Qu.:  3.300   3rd Qu.:  20.00  \n",
              "                    Max.   :1542.0   Max.   :119.900   Max.   :2053.00  "
            ]
          },
          "metadata": {}
        }
      ]
    },
    {
      "cell_type": "markdown",
      "source": [
        "As you can see in the data set, there are quite a few 0 values in the saturated fat and cholesterol columns. In some data sets, many 0 values may seem like an error, but for this data on nutrition, it is possible for certain types of food or beverages to hve 0 grams of saturated fat or cholesterol."
      ],
      "metadata": {
        "id": "Mi93U_aYs4Tt"
      }
    },
    {
      "cell_type": "markdown",
      "source": [
        "## 3. Sort the data set by saturated_fat and produce a listing of the five food items highest in saturated fat. Comment on the validity of comparing food items of different sizes."
      ],
      "metadata": {
        "id": "ub16Z-XEtm29"
      }
    },
    {
      "cell_type": "code",
      "source": [
        "#Sort the data set by saturated fat descending so the top 5 highest are visible on the top\n",
        "nutrition_subset <- nutrition_subset[order(nutrition_subset$saturated_fat, decreasing = TRUE), ]\n",
        "\n",
        "#Print sorted data set\n",
        "print(nutrition_subset)"
      ],
      "metadata": {
        "colab": {
          "base_uri": "https://localhost:8080/"
        },
        "id": "EnePUKMlt5pq",
        "outputId": "0a9c93a9-c4f7-4b4e-94ea-665180a78510"
      },
      "execution_count": 30,
      "outputs": [
        {
          "output_type": "stream",
          "name": "stdout",
          "text": [
            "\u001b[90m# A tibble: 961 × 4\u001b[39m\n",
            "   `food item`                         weight_in_grams saturated_fat cholesterol\n",
            "   \u001b[3m\u001b[90m<chr>\u001b[39m\u001b[23m                                         \u001b[3m\u001b[90m<dbl>\u001b[39m\u001b[23m         \u001b[3m\u001b[90m<dbl>\u001b[39m\u001b[23m       \u001b[3m\u001b[90m<dbl>\u001b[39m\u001b[23m\n",
            "\u001b[90m 1\u001b[39m CHEESECAKE                    1 CA…            \u001b[4m1\u001b[24m110         120.         \u001b[4m2\u001b[24m053\n",
            "\u001b[90m 2\u001b[39m ICE CREAM; VANLLA; RICH 16% FT1/2 …            \u001b[4m1\u001b[24m188         118.          703\n",
            "\u001b[90m 3\u001b[39m YELLOWCAKE W/ CHOCFRSTNG;COMML1 CA…            \u001b[4m1\u001b[24m108          92           609\n",
            "\u001b[90m 4\u001b[39m CREME PIE                     1 PIE             910          90.1          46\n",
            "\u001b[90m 5\u001b[39m LARD                          1 CUP             205          80.4         195\n",
            "\u001b[90m 6\u001b[39m ICE CREAM; VANLLA; REGULR 11% 1/2 …            \u001b[4m1\u001b[24m064          71.3         476\n",
            "\u001b[90m 7\u001b[39m CARROT CAKE;CREMCHESE FRST;REC1 CA…            \u001b[4m1\u001b[24m536          66          \u001b[4m1\u001b[24m183\n",
            "\u001b[90m 8\u001b[39m BUTTER; SALTED                1/2 …             113          57.1         247\n",
            "\u001b[90m 9\u001b[39m BUTTER; UNSALTED              1/2 …             113          57.1         247\n",
            "\u001b[90m10\u001b[39m DEVIL'S FOOD CAKE;CHOCFRST;FMX1 CA…            \u001b[4m1\u001b[24m107          55.6         598\n",
            "\u001b[90m# ℹ 951 more rows\u001b[39m\n"
          ]
        }
      ]
    },
    {
      "cell_type": "markdown",
      "source": [
        "As you can see from the sorted data set above, the top 5 saturated fat food items are displayed. If you take a look at the described data set above (from #2), the third quartile weight is 218 and the max weight is 1542. The top 4 saturated fat food items fall above the third quartile, but the cup of lard ways much less than the top 4 items. This shows that the validity of analyzing foods of different sizes can be flawed. The lard has a much higher saturated fat content for its weight and would easily move its way up the ranks if there was a larger portion of it. Many of the items on the list are ranked high because of their portion sizes when the ratios between weight and fat are higher on other smaller items. For example, some items, like the carrot cake (which is one of the highest weights), have a much smaller ratio between fat and weight."
      ],
      "metadata": {
        "id": "2o0D6BMb2Jy9"
      }
    },
    {
      "cell_type": "markdown",
      "source": [
        "## 4. Create a new variable, saturated_ fat_ per_gram, by dividing the amount of saturated fat  by the weight in grams. Sort the data set by saturated_ fat_ per_gram and produce a listing of the five food  items highest in saturated fat per gram. Which food has the most saturated fat per gram?"
      ],
      "metadata": {
        "id": "dp3DLYGq3Bhu"
      }
    },
    {
      "cell_type": "code",
      "source": [
        "#Create a new column that measures saturated fat per gram\n",
        "nutrition_subset$saturated_fat_per_gram <- nutrition_subset$saturated_fat / nutrition_subset$weight_in_grams\n",
        "\n",
        "#Sort the data set by saturated fat per gram descending so the top 5 highest are visible on the top\n",
        "nutrition_subset <- nutrition_subset[order(nutrition_subset$saturated_fat_per_gram, decreasing = TRUE), ]\n",
        "\n",
        "#Print sorted data set\n",
        "print(nutrition_subset)"
      ],
      "metadata": {
        "colab": {
          "base_uri": "https://localhost:8080/"
        },
        "id": "YYGscE1K3uZP",
        "outputId": "dbf6f3f7-7386-407d-e4d8-85f0c46f506f"
      },
      "execution_count": 31,
      "outputs": [
        {
          "output_type": "stream",
          "name": "stdout",
          "text": [
            "\u001b[90m# A tibble: 961 × 5\u001b[39m\n",
            "   `food item`  weight_in_grams saturated_fat cholesterol saturated_fat_per_gram\n",
            "   \u001b[3m\u001b[90m<chr>\u001b[39m\u001b[23m                  \u001b[3m\u001b[90m<dbl>\u001b[39m\u001b[23m         \u001b[3m\u001b[90m<dbl>\u001b[39m\u001b[23m       \u001b[3m\u001b[90m<dbl>\u001b[39m\u001b[23m                  \u001b[3m\u001b[90m<dbl>\u001b[39m\u001b[23m\n",
            "\u001b[90m 1\u001b[39m BUTTER; SAL…            14             7.1          31                  0.507\n",
            "\u001b[90m 2\u001b[39m BUTTER; UNS…            14             7.1          31                  0.507\n",
            "\u001b[90m 3\u001b[39m BUTTER; SAL…           113            57.1         247                  0.505\n",
            "\u001b[90m 4\u001b[39m BUTTER; UNS…           113            57.1         247                  0.505\n",
            "\u001b[90m 5\u001b[39m BUTTER; SAL…             5             2.5          11                  0.5  \n",
            "\u001b[90m 6\u001b[39m BUTTER; UNS…             5             2.5          11                  0.5  \n",
            "\u001b[90m 7\u001b[39m LARD       …            13             5.1          12                  0.392\n",
            "\u001b[90m 8\u001b[39m LARD       …           205            80.4         195                  0.392\n",
            "\u001b[90m 9\u001b[39m IMITATION C…             2             0.7           0                  0.35 \n",
            "\u001b[90m10\u001b[39m CHOCOLATE; …            28.4           9             0                  0.317\n",
            "\u001b[90m# ℹ 951 more rows\u001b[39m\n"
          ]
        }
      ]
    },
    {
      "cell_type": "markdown",
      "source": [
        "Salted butter has the most saturated fat per gram. However, it did not fall within the top 5 of total saturated fat. Lard is the only item on this updated list that appears within the top 5 total saturated fat food items. One thing that is interesting is the fact that different measurements were used for many of the items. Most of them have the same fat to weight ratio, but the tbsp of lard has an ever so slightly larger ratio than the full cup. I thought that was interesting."
      ],
      "metadata": {
        "id": "PsB97w5c7dCs"
      }
    },
    {
      "cell_type": "markdown",
      "source": [
        "## 5. Standardize (zero mean) the field saturated_ fat_ per_gram, and produce a listing of all the food items that are outliers at the high end of the scale. How many food items are outliers at the low end of the scale? Create a density plot for saturated_ fat_ per_gram"
      ],
      "metadata": {
        "id": "Hf-QFTAX8Guw"
      }
    },
    {
      "cell_type": "code",
      "source": [
        "#Create a new column and scale the saturated fat per gram data\n",
        "nutrition_subset$scaled_sfpg <- scale(x = nutrition_subset$saturated_fat_per_gram)\n",
        "#Print out the summary of the new scaled column\n",
        "summary(nutrition_subset$scaled_sfpg)"
      ],
      "metadata": {
        "colab": {
          "base_uri": "https://localhost:8080/",
          "height": 139
        },
        "id": "1PijM9Ak8P4I",
        "outputId": "efc619e0-5d2f-4f79-d45a-f7860a4e07d8"
      },
      "execution_count": 32,
      "outputs": [
        {
          "output_type": "display_data",
          "data": {
            "text/plain": [
              "       V1         \n",
              " Min.   :-0.5620  \n",
              " 1st Qu.:-0.5620  \n",
              " Median :-0.4411  \n",
              " Mean   : 0.0000  \n",
              " 3rd Qu.: 0.1539  \n",
              " Max.   : 7.1068  "
            ]
          },
          "metadata": {}
        }
      ]
    },
    {
      "cell_type": "code",
      "source": [
        "#Define the 3 sigma rule for determining outliers (one for high end and one or low)\n",
        "posThreeSig <- (nutrition_subset$scaled_sfpg > 3)\n",
        "negThreeSig <- (nutrition_subset$scaled_sfpg < -3)\n",
        "\n",
        "#Create a variable that tracks the outliers using the 3 sigma rule\n",
        "high_sfpg_outliers <- nutrition_subset$scaled_sfpg[which(posThreeSig)]\n",
        "low_sfpg_outliers <- nutrition_subset$scaled_sfpg[which(negThreeSig)]\n",
        "\n",
        "#Print out the number of education outliers\n",
        "cat(\"number of outliers in saturated fat per gram on the high end of the scale = \", length(high_sfpg_outliers),\"\\n\")\n",
        "cat(\"number of outliers in saturated fat per gram on the low end of the scale = \", length(low_sfpg_outliers))"
      ],
      "metadata": {
        "colab": {
          "base_uri": "https://localhost:8080/"
        },
        "id": "Nug4VDeqCAjE",
        "outputId": "62944c1b-41b9-4113-b651-f87f9b925a50"
      },
      "execution_count": 33,
      "outputs": [
        {
          "output_type": "stream",
          "name": "stdout",
          "text": [
            "number of outliers in saturated fat per gram on the high end of the scale =  15 \n",
            "number of outliers in saturated fat per gram on the low end of the scale =  0"
          ]
        }
      ]
    },
    {
      "cell_type": "code",
      "source": [
        "#Print out all of the high end outliers (There is no need for low because there are none)\n",
        "#I had to do this because it was printing out weird values when I tried just printing my outlier variable\n",
        "high_sfpg_outliers_df <- nutrition_subset[posThreeSig, ]\n",
        "print(high_sfpg_outliers_df)\n"
      ],
      "metadata": {
        "colab": {
          "base_uri": "https://localhost:8080/"
        },
        "id": "XoMsDE0lDnym",
        "outputId": "7387a978-3ee4-4f98-f6be-58a4f0c9af91"
      },
      "execution_count": 34,
      "outputs": [
        {
          "output_type": "stream",
          "name": "stdout",
          "text": [
            "\u001b[90m# A tibble: 15 × 6\u001b[39m\n",
            "   `food item`  weight_in_grams saturated_fat cholesterol saturated_fat_per_gram\n",
            "   \u001b[3m\u001b[90m<chr>\u001b[39m\u001b[23m                  \u001b[3m\u001b[90m<dbl>\u001b[39m\u001b[23m         \u001b[3m\u001b[90m<dbl>\u001b[39m\u001b[23m       \u001b[3m\u001b[90m<dbl>\u001b[39m\u001b[23m                  \u001b[3m\u001b[90m<dbl>\u001b[39m\u001b[23m\n",
            "\u001b[90m 1\u001b[39m BUTTER; SAL…            14             7.1          31                  0.507\n",
            "\u001b[90m 2\u001b[39m BUTTER; UNS…            14             7.1          31                  0.507\n",
            "\u001b[90m 3\u001b[39m BUTTER; SAL…           113            57.1         247                  0.505\n",
            "\u001b[90m 4\u001b[39m BUTTER; UNS…           113            57.1         247                  0.505\n",
            "\u001b[90m 5\u001b[39m BUTTER; SAL…             5             2.5          11                  0.5  \n",
            "\u001b[90m 6\u001b[39m BUTTER; UNS…             5             2.5          11                  0.5  \n",
            "\u001b[90m 7\u001b[39m LARD       …            13             5.1          12                  0.392\n",
            "\u001b[90m 8\u001b[39m LARD       …           205            80.4         195                  0.392\n",
            "\u001b[90m 9\u001b[39m IMITATION C…             2             0.7           0                  0.35 \n",
            "\u001b[90m10\u001b[39m CHOCOLATE; …            28.4           9             0                  0.317\n",
            "\u001b[90m11\u001b[39m COCONUT; DR…            93            29.3           0                  0.315\n",
            "\u001b[90m12\u001b[39m COCONUT; RA…            45            13.4           0                  0.298\n",
            "\u001b[90m13\u001b[39m COCONUT; RA…            80            23.8           0                  0.298\n",
            "\u001b[90m14\u001b[39m FATS; COOKI…            13             3.3           0                  0.254\n",
            "\u001b[90m15\u001b[39m FATS; COOKI…           205            51.3           0                  0.250\n",
            "\u001b[90m# ℹ 1 more variable: scaled_sfpg <dbl[,1]>\u001b[39m\n"
          ]
        }
      ]
    },
    {
      "cell_type": "code",
      "source": [
        "plot(density(nutrition_subset$scaled_sfpg, bw = 0.5), main = \"Density Plot for Scaled Saturated Fat Per Gram Outliers\")"
      ],
      "metadata": {
        "colab": {
          "base_uri": "https://localhost:8080/",
          "height": 437
        },
        "id": "hE1y8vs_FA3z",
        "outputId": "d97d05ae-b37f-4beb-df7e-f245828d784b"
      },
      "execution_count": 35,
      "outputs": [
        {
          "output_type": "display_data",
          "data": {
            "text/plain": [
              "Plot with title “Density Plot for Scaled Saturated Fat Per Gram Outliers”"
            ],
            "image/png": "[encoded data removed]"
          },
          "metadata": {
            "image/png": {
              "width": 420,
              "height": 420
            }
          }
        }
      ]
    },
    {
      "cell_type": "markdown",
      "source": [
        "As you can see from this analysis on the data set, most of the foods that were analyzed are on the lower end for saturated fat. However, there are 15 outliers on the higher end causing the data set to look skewed. There are clearly 0 outliers on the low end, but there are a few deep high end outliers. The printed values show this as well as the small bumps in the density plot."
      ],
      "metadata": {
        "id": "mfCPZ-ECBSUM"
      }
    },
    {
      "cell_type": "markdown",
      "source": [
        "## 6. Are there any missing values? If so, impute as necessary and explain your approach."
      ],
      "metadata": {
        "id": "xvCrW4UxGBC1"
      }
    },
    {
      "cell_type": "code",
      "source": [
        "#Check if there are any null/missing values in the data set\n",
        "print(colSums(is.na(nutrition_subset)) > 0)"
      ],
      "metadata": {
        "colab": {
          "base_uri": "https://localhost:8080/"
        },
        "id": "q5juFZp6Hf-V",
        "outputId": "ab5705be-13a8-4d6d-a93b-aceac6312492"
      },
      "execution_count": 36,
      "outputs": [
        {
          "output_type": "stream",
          "name": "stdout",
          "text": [
            "             food item        weight_in_grams          saturated_fat \n",
            "                 FALSE                  FALSE                  FALSE \n",
            "           cholesterol saturated_fat_per_gram                        \n",
            "                 FALSE                  FALSE                  FALSE \n"
          ]
        }
      ]
    },
    {
      "cell_type": "markdown",
      "source": [
        "After double checking, there are no missing values in the data set. As I mentioned at the beginning, there was also no noise to clean."
      ],
      "metadata": {
        "id": "vT__cj7QHobm"
      }
    },
    {
      "cell_type": "markdown",
      "source": [
        "## 7. Standardize (zero mean) the numeric variables, and determine if there are any outliers."
      ],
      "metadata": {
        "id": "KbcXdSb8HzSh"
      }
    },
    {
      "cell_type": "markdown",
      "source": [
        "### a. Weight In Grams"
      ],
      "metadata": {
        "id": "zNbLK1H0MGVG"
      }
    },
    {
      "cell_type": "code",
      "source": [
        "#Create a new column and scale the weight in grams data\n",
        "nutrition_subset$scaled_weight <- scale(x = nutrition_subset$weight_in_grams)\n",
        "\n",
        "#Define the 3 sigma rule for determining outliers\n",
        "threeSigRuleW <- (nutrition_subset$scaled_weight > 3) | (nutrition_subset$scaled_weight < -3)\n",
        "\n",
        "#Create a variable that tracks the outliers using the 3 sigma rule\n",
        "weight_outliers <- nutrition_subset$scaled_weight[which(threeSigRuleW)]\n",
        "\n",
        "#Print out the number of weight outliers\n",
        "cat(\"number of outliers in weight in grams =\", length(weight_outliers))"
      ],
      "metadata": {
        "colab": {
          "base_uri": "https://localhost:8080/"
        },
        "id": "4xupiGaQH0-r",
        "outputId": "c2dccb8e-0181-4ca6-eefc-084ef4dbdfc6"
      },
      "execution_count": 37,
      "outputs": [
        {
          "output_type": "stream",
          "name": "stdout",
          "text": [
            "number of outliers in weight in grams = 22"
          ]
        }
      ]
    },
    {
      "cell_type": "markdown",
      "source": [
        "### b. Saturated Fat"
      ],
      "metadata": {
        "id": "G01s6ccONEJd"
      }
    },
    {
      "cell_type": "code",
      "source": [
        "#Create a new column and scale the saturated fat data\n",
        "nutrition_subset$scaled_satfat <- scale(x = nutrition_subset$saturated_fat)\n",
        "\n",
        "#Define the 3 sigma rule for determining outliers\n",
        "threeSigRuleSF <- (nutrition_subset$scaled_satfat > 3) | (nutrition_subset$scaled_satfat < -3)\n",
        "\n",
        "#Create a variable that tracks the outliers using the 3 sigma rule\n",
        "satfat_outliers <- nutrition_subset$scaled_satfat[which(threeSigRuleSF)]\n",
        "\n",
        "#Print out the number of saturated fat outliers\n",
        "cat(\"number of outliers in saturated fat =\", length(satfat_outliers))"
      ],
      "metadata": {
        "colab": {
          "base_uri": "https://localhost:8080/"
        },
        "id": "uc-KTAyoNDU2",
        "outputId": "fcffa8a0-223c-4b25-c368-62b89d45332a"
      },
      "execution_count": 38,
      "outputs": [
        {
          "output_type": "stream",
          "name": "stdout",
          "text": [
            "number of outliers in saturated fat = 20"
          ]
        }
      ]
    },
    {
      "cell_type": "markdown",
      "source": [
        "### c. Cholesterol"
      ],
      "metadata": {
        "id": "F1RTOda4Np_5"
      }
    },
    {
      "cell_type": "code",
      "source": [
        "#Create a new column and scale the cholesterol data\n",
        "nutrition_subset$scaled_cholesterol <- scale(x = nutrition_subset$cholesterol)\n",
        "\n",
        "#Define the 3 sigma rule for determining outliers\n",
        "threeSigRuleC <- (nutrition_subset$scaled_cholesterol > 3) | (nutrition_subset$scaled_cholesterol < -3)\n",
        "\n",
        "#Create a variable that tracks the outliers using the 3 sigma rule\n",
        "cholesterol_outliers <- nutrition_subset$scaled_cholesterol[which(threeSigRuleC)]\n",
        "\n",
        "#Print out the number of cholesterol outliers\n",
        "cat(\"number of outliers in cholesterol =\", length(cholesterol_outliers))"
      ],
      "metadata": {
        "colab": {
          "base_uri": "https://localhost:8080/"
        },
        "id": "XOM43lo7NtC-",
        "outputId": "34f2f759-3af0-4b0f-d875-3d59ea58b72c"
      },
      "execution_count": 39,
      "outputs": [
        {
          "output_type": "stream",
          "name": "stdout",
          "text": [
            "number of outliers in cholesterol = 17"
          ]
        }
      ]
    },
    {
      "cell_type": "markdown",
      "source": [
        "After standardizing all of the numeric values in this data set, I discovered that each column has a few outliers. All of these values have more outliers than the saturated fat per gram column (15) that I had previously analyzed.\n",
        "- Weight has 22\n",
        "- Saturated fat has 20\n",
        "- Cholesterol has 17"
      ],
      "metadata": {
        "id": "8eUWj-DzOO9q"
      }
    },
    {
      "cell_type": "markdown",
      "source": [
        "## 8. Summarize your findings.\n",
        "- I found that I did not need to impute or replace any values in this data set.\n",
        "- Comparing foods of different sizes or weights can be innacurate because of the saturated fat per gram ratio.\n",
        "- Food items like butter had the highest fat per gram, but were topped in overall saturated fats by  larger items like the pies.\n",
        "- This data set had 0 low end outliers in the saturated fats per gram category because most of the food items in this set tend to be on the leaner side.\n",
        "- The first quartile values and below for both cholesterol and saturated fats are all zeros.\n",
        "- The data set as a whole had minimal outliers, with weight being the most at 22, and saturated fat per gram being the least at 15."
      ],
      "metadata": {
        "id": "1ulL1qvAOjZn"
      }
    },
    {
      "cell_type": "markdown",
      "source": [
        "### Sources\n",
        "- https://github.com/bforoura/IDS/blob/main/Portuguese_Bank_R.ipynb\n",
        "- https://github.com/bforoura/IDS/blob/main/HW4/adult_training.csv"
      ],
      "metadata": {
        "id": "ikj5vxhyT5lv"
      }
    }
  ]
}