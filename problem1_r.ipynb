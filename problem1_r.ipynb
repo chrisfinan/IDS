{
  "nbformat": 4,
  "nbformat_minor": 0,
  "metadata": {
    "colab": {
      "provenance": [],
      "authorship_tag": "ABX9TyMFdzytV2CHcf+M3JdBSU7e",
      "include_colab_link": true
    },
    "kernelspec": {
      "name": "ir",
      "display_name": "R"
    },
    "language_info": {
      "name": "R"
    }
  },
  "cells": [
    {
      "cell_type": "markdown",
      "metadata": {
        "id": "view-in-github",
        "colab_type": "text"
      },
      "source": [
        "<a href=\"https://colab.research.google.com/github/chrisfinan/IDS/blob/main/problem1_r.ipynb\" target=\"_parent\"><img src=\"https://colab.research.google.com/assets/colab-badge.svg\" alt=\"Open In Colab\"/></a>"
      ]
    },
    {
      "cell_type": "markdown",
      "source": [
        "Chris Finan\n",
        "> 10/27/23\n",
        "\n",
        "> Project 4\n",
        "\n",
        "\n",
        "\n",
        "\n",
        "\n",
        "\n"
      ],
      "metadata": {
        "id": "LKwVSFWjizJT"
      }
    },
    {
      "cell_type": "markdown",
      "source": [
        "###Description:\n",
        "\n",
        "\n",
        "> In this notebook, I am examining the \"adult training\" data set. I clean this data set and analyze it using different methods, such as plotting bar charts and histograms as well as using contingency tables. I also analyze the dataset by lowering the range of ages to see if there are any changes. This notebook is coded solely in R.\n",
        "\n"
      ],
      "metadata": {
        "id": "NRAnRpBhjBur"
      }
    },
    {
      "cell_type": "markdown",
      "source": [
        "## 1. Use the following dataset about adults: https://github.com/bforoura/IDS/blob/main/HW4/adult_training.csv"
      ],
      "metadata": {
        "id": "hiJnGS00jUwT"
      }
    },
    {
      "cell_type": "code",
      "execution_count": 255,
      "metadata": {
        "id": "b-k37FlzRvKb"
      },
      "outputs": [],
      "source": [
        "# Let's read in the data file\n",
        "library(readr)\n",
        "adult_training <- read_csv(\"https://raw.githubusercontent.com/bforoura/IDS/main/HW4/adult_training.csv\", show_col_types = FALSE)"
      ]
    },
    {
      "cell_type": "code",
      "source": [
        "# Convert to data frame and summarize\n",
        "summary(adult_training)"
      ],
      "metadata": {
        "colab": {
          "base_uri": "https://localhost:8080/",
          "height": 382
        },
        "id": "fo4zjkLVhaZx",
        "outputId": "559d96aa-c3e8-431d-d5cc-a0844bd9b016"
      },
      "execution_count": 256,
      "outputs": [
        {
          "output_type": "display_data",
          "data": {
            "text/plain": [
              "      age         workclass           education     marital-status    \n",
              " Min.   :17.00   Length:14797       Min.   : 1.00   Length:14797      \n",
              " 1st Qu.:28.00   Class :character   1st Qu.: 9.00   Class :character  \n",
              " Median :37.00   Mode  :character   Median :10.00   Mode  :character  \n",
              " Mean   :38.69                      Mean   :10.07                     \n",
              " 3rd Qu.:48.00                      3rd Qu.:12.00                     \n",
              " Max.   :90.00                      Max.   :16.00                     \n",
              "  occupation            sex             capital-gain    capital-loss    \n",
              " Length:14797       Length:14797       Min.   :    0   Min.   :   0.00  \n",
              " Class :character   Class :character   1st Qu.:    0   1st Qu.:   0.00  \n",
              " Mode  :character   Mode  :character   Median :    0   Median :   0.00  \n",
              "                                       Mean   : 1067   Mean   :  88.58  \n",
              "                                       3rd Qu.:    0   3rd Qu.:   0.00  \n",
              "                                       Max.   :99999   Max.   :4356.00  \n",
              "    income         \n",
              " Length:14797      \n",
              " Class :character  \n",
              " Mode  :character  \n",
              "                   \n",
              "                   \n",
              "                   "
            ]
          },
          "metadata": {}
        }
      ]
    },
    {
      "cell_type": "code",
      "source": [
        "#Converts the column's 0 values as well as 99999 values (which are most likely errors) to null values so that the the values other than the max can be observed\n",
        "adult_training$`capital-gain` <- ifelse(adult_training$`capital-gain` == 0, yes = NA, no = adult_training$`capital-gain`)\n",
        "adult_training$`capital-gain` <- ifelse(adult_training$`capital-gain` == 99999, yes = NA, no = adult_training$`capital-gain`)\n",
        "adult_training$`capital-loss` <- ifelse(adult_training$`capital-loss` == 0, yes = NA, no = adult_training$`capital-loss`)"
      ],
      "metadata": {
        "id": "UuOVxQhQmECe"
      },
      "execution_count": 257,
      "outputs": []
    },
    {
      "cell_type": "code",
      "source": [
        "#Fill in unnecessary 0 and 99999 values that were set to na - the mean is calculated  without the na values\n",
        "adult_training$`capital-gain` <- ifelse(is.na(adult_training$`capital-gain`), mean(adult_training$`capital-gain`, na.rm = TRUE), adult_training$`capital-gain`)\n",
        "adult_training$`capital-loss` <- ifelse(is.na(adult_training$`capital-loss`), mean(adult_training$`capital-loss`, na.rm = TRUE), adult_training$`capital-loss`)\n"
      ],
      "metadata": {
        "id": "t5IuXERbpRR4"
      },
      "execution_count": 258,
      "outputs": []
    },
    {
      "cell_type": "code",
      "source": [
        "#Display the summary of the cleaned data set\n",
        "#There are no more noisy values that are out of the ordinary\n",
        "summary(adult_training)"
      ],
      "metadata": {
        "colab": {
          "base_uri": "https://localhost:8080/",
          "height": 382
        },
        "id": "3l2BVig-5yBd",
        "outputId": "d7b87b55-b3aa-48d9-ce69-e80fe4abb4c8"
      },
      "execution_count": 259,
      "outputs": [
        {
          "output_type": "display_data",
          "data": {
            "text/plain": [
              "      age         workclass           education     marital-status    \n",
              " Min.   :17.00   Length:14797       Min.   : 1.00   Length:14797      \n",
              " 1st Qu.:28.00   Class :character   1st Qu.: 9.00   Class :character  \n",
              " Median :37.00   Mode  :character   Median :10.00   Mode  :character  \n",
              " Mean   :38.69                      Mean   :10.07                     \n",
              " 3rd Qu.:48.00                      3rd Qu.:12.00                     \n",
              " Max.   :90.00                      Max.   :16.00                     \n",
              "  occupation            sex             capital-gain    capital-loss \n",
              " Length:14797       Length:14797       Min.   :  114   Min.   : 213  \n",
              " Class :character   Class :character   1st Qu.: 7637   1st Qu.:1878  \n",
              " Mode  :character   Mode  :character   Median : 7637   Median :1878  \n",
              "                                       Mean   : 7637   Mean   :1878  \n",
              "                                       3rd Qu.: 7637   3rd Qu.:1878  \n",
              "                                       Max.   :41310   Max.   :4356  \n",
              "    income         \n",
              " Length:14797      \n",
              " Class :character  \n",
              " Mode  :character  \n",
              "                   \n",
              "                   \n",
              "                   "
            ]
          },
          "metadata": {}
        }
      ]
    },
    {
      "cell_type": "markdown",
      "source": [
        "## 2. Create a contingency table of workclass and sex, and plot it."
      ],
      "metadata": {
        "id": "7vZG5PMhjcvH"
      }
    },
    {
      "cell_type": "code",
      "source": [
        "#Create contingency table\n",
        "atTable <- table(adult_training$sex, adult_training$workclass)\n",
        "#Display table\n",
        "ftable(atTable)"
      ],
      "metadata": {
        "colab": {
          "base_uri": "https://localhost:8080/",
          "height": 86
        },
        "id": "YUmhWvnCjm1s",
        "outputId": "63de275e-a343-4d8a-ac59-690df2d6289e"
      },
      "execution_count": 260,
      "outputs": [
        {
          "output_type": "display_data",
          "data": {
            "text/plain": [
              "           ? Federal-gov Local-gov Never-worked Private Self-emp-inc Self-emp-not-inc State-gov Without-pay\n",
              "                                                                                                           \n",
              "Female   377         149       377            1    3574           54              178       201           1\n",
              "Male     452         305       592            4    6707          444              992       385           4"
            ]
          },
          "metadata": {}
        }
      ]
    },
    {
      "cell_type": "code",
      "source": [
        "barplot(atTable, #create barplot fot sex and workclass\n",
        "legend.text = c(\"Female\", \"Male\"), args.legend = list(title = \"Sex\", x = \"topright\", bty = \"n\"), #Display key to distinguish colors\n",
        "beside = TRUE) #make chart more readable with side by side bars"
      ],
      "metadata": {
        "colab": {
          "base_uri": "https://localhost:8080/",
          "height": 437
        },
        "id": "h303GbLuoum6",
        "outputId": "2cbece60-c2d0-425d-be77-38f84ba8a1a1"
      },
      "execution_count": 261,
      "outputs": [
        {
          "output_type": "display_data",
          "data": {
            "text/plain": [
              "plot without title"
            ],
            "image/png": "[encoded data removed]"
          },
          "metadata": {
            "image/png": {
              "width": 420,
              "height": 420
            }
          }
        }
      ]
    },
    {
      "cell_type": "markdown",
      "source": [
        "As you can see based on the charts above, most of both males and females are privately employed. Almost no one has never worked or been without pay (these 2 are basically the same as they have the same numbers). There are many more men than women that were recorded in this data set as being a part of a specific work class. The values that are the most similar between males and females are unknown (?) and never-worked/without-pay."
      ],
      "metadata": {
        "id": "oSl0ig2Pp6_Z"
      }
    },
    {
      "cell_type": "markdown",
      "source": [
        "## 3. Create a contingency table of sex and marital status, and plot it."
      ],
      "metadata": {
        "id": "2NyAAfxHozwA"
      }
    },
    {
      "cell_type": "code",
      "source": [
        "#Create contingency table\n",
        "smTable <- table(adult_training$sex, adult_training$`marital-status`)\n",
        "#Display table\n",
        "ftable(smTable)"
      ],
      "metadata": {
        "colab": {
          "base_uri": "https://localhost:8080/",
          "height": 86
        },
        "id": "MNlLqa2ko1wW",
        "outputId": "5d90bf07-b66e-4c02-d37b-e552dcd0a7c6"
      },
      "execution_count": 262,
      "outputs": [
        {
          "output_type": "display_data",
          "data": {
            "text/plain": [
              "        Divorced Married-AF-spouse Married-civ-spouse Married-spouse-absent Never-married Separated Widowed\n",
              "                                                                                                           \n",
              "Female      1219                 7                761                    95          2160       290     380\n",
              "Male         795                 4               6010                   104          2717       182      73"
            ]
          },
          "metadata": {}
        }
      ]
    },
    {
      "cell_type": "code",
      "source": [
        "barplot(smTable, #create barplot fot sex and marital-status\n",
        "legend.text = c(\"Female\", \"Male\"), args.legend = list(title = \"Sex\", x = \"topright\", bty = \"n\"), #Display key to distinguish colors\n",
        "beside = TRUE) #make chart more readable with side by side bars"
      ],
      "metadata": {
        "colab": {
          "base_uri": "https://localhost:8080/",
          "height": 437
        },
        "id": "Y6vFusOgdhIG",
        "outputId": "fd5f5c34-1e01-4ce8-ccd9-3e6a0c0fd44b"
      },
      "execution_count": 263,
      "outputs": [
        {
          "output_type": "display_data",
          "data": {
            "text/plain": [
              "plot without title"
            ],
            "image/png": "[encoded data removed]"
          },
          "metadata": {
            "image/png": {
              "width": 420,
              "height": 420
            }
          }
        }
      ]
    },
    {
      "cell_type": "markdown",
      "source": [
        "Most of the different marital statuses are relatively similar, except when it comes to \"Married-civ-spouse\" where males have over 5,000 more in this category than females. Males also lead in the \"Never-married\" category by a decent margin and in \"Married-spouse-absent\" by only 9. However, more females than men are listed as divorced, separated, or widowed. Females also lead in \"Married-AF-spouse,\" but these numbers are so small in general that they are only above males by 3."
      ],
      "metadata": {
        "id": "nXH6c6Igp8v2"
      }
    },
    {
      "cell_type": "markdown",
      "source": [
        "## 4. Create a new data frame, adultOver40, for those whose age > 40."
      ],
      "metadata": {
        "id": "kKEV4PkhqAe1"
      }
    },
    {
      "cell_type": "code",
      "source": [
        "# Make a copy of the cleaned data set\n",
        "adultOver40 <- adult_training\n",
        "# Remove all values that are less than 40\n",
        "adultOver40 <- adultOver40[!(adultOver40$age < 40), ]\n",
        "# Display the new data frame\n",
        "print(adultOver40)"
      ],
      "metadata": {
        "colab": {
          "base_uri": "https://localhost:8080/"
        },
        "id": "zC8uGHDiqDjL",
        "outputId": "0f66be1c-4786-4770-867d-8eeed2bdb4bc"
      },
      "execution_count": 264,
      "outputs": [
        {
          "output_type": "stream",
          "name": "stdout",
          "text": [
            "\u001b[90m# A tibble: 6,510 × 9\u001b[39m\n",
            "     age workclass    education `marital-status` occupation sex   `capital-gain`\n",
            "   \u001b[3m\u001b[90m<dbl>\u001b[39m\u001b[23m \u001b[3m\u001b[90m<chr>\u001b[39m\u001b[23m            \u001b[3m\u001b[90m<dbl>\u001b[39m\u001b[23m \u001b[3m\u001b[90m<chr>\u001b[39m\u001b[23m            \u001b[3m\u001b[90m<chr>\u001b[39m\u001b[23m      \u001b[3m\u001b[90m<chr>\u001b[39m\u001b[23m          \u001b[3m\u001b[90m<dbl>\u001b[39m\u001b[23m\n",
            "\u001b[90m 1\u001b[39m    50 Self-emp-no…        13 Married-civ-spo… Exec-mana… Male           \u001b[4m7\u001b[24m637.\n",
            "\u001b[90m 2\u001b[39m    49 Private              5 Married-spouse-… Other-ser… Fema…          \u001b[4m7\u001b[24m637.\n",
            "\u001b[90m 3\u001b[39m    52 Self-emp-no…         9 Married-civ-spo… Exec-mana… Male           \u001b[4m7\u001b[24m637.\n",
            "\u001b[90m 4\u001b[39m    40 Private             11 Married-civ-spo… Craft-rep… Male           \u001b[4m7\u001b[24m637.\n",
            "\u001b[90m 5\u001b[39m    43 Private              7 Married-civ-spo… Transport… Male           \u001b[4m7\u001b[24m637.\n",
            "\u001b[90m 6\u001b[39m    54 ?                   10 Married-civ-spo… ?          Male           \u001b[4m7\u001b[24m637.\n",
            "\u001b[90m 7\u001b[39m    44 Private             14 Divorced         Exec-mana… Fema…          \u001b[4m7\u001b[24m637.\n",
            "\u001b[90m 8\u001b[39m    50 Federal-gov         13 Divorced         Exec-mana… Male           \u001b[4m7\u001b[24m637.\n",
            "\u001b[90m 9\u001b[39m    47 Self-emp-inc         9 Divorced         Exec-mana… Male           \u001b[4m7\u001b[24m637.\n",
            "\u001b[90m10\u001b[39m    43 Private             10 Married-civ-spo… Tech-supp… Male           \u001b[4m7\u001b[24m637.\n",
            "\u001b[90m# ℹ 6,500 more rows\u001b[39m\n",
            "\u001b[90m# ℹ 2 more variables: `capital-loss` <dbl>, income <chr>\u001b[39m\n"
          ]
        }
      ]
    },
    {
      "cell_type": "markdown",
      "source": [
        "## 5. Recreate the contingency table of sex and marital status for adultOver40."
      ],
      "metadata": {
        "id": "zrZH-mn_3gJG"
      }
    },
    {
      "cell_type": "code",
      "source": [
        "#Create contingency table\n",
        "smTable2 <- table(adultOver40$sex, adultOver40$`marital-status`)\n",
        "#Display table\n",
        "ftable(smTable2)"
      ],
      "metadata": {
        "colab": {
          "base_uri": "https://localhost:8080/",
          "height": 86
        },
        "id": "xdUm2j463gzW",
        "outputId": "bd373123-6312-4a40-d2ba-59e0666b3233"
      },
      "execution_count": 265,
      "outputs": [
        {
          "output_type": "display_data",
          "data": {
            "text/plain": [
              "        Divorced Married-AF-spouse Married-civ-spouse Married-spouse-absent Never-married Separated Widowed\n",
              "                                                                                                           \n",
              "Female       769                 0                332                    41           290       147     356\n",
              "Male         476                 1               3554                    50           342        81      71"
            ]
          },
          "metadata": {}
        }
      ]
    },
    {
      "cell_type": "code",
      "source": [
        "barplot(smTable2, #create barplot fot sex and marital-status for adults over 40\n",
        "legend.text = c(\"Female\", \"Male\"), args.legend = list(title = \"Sex\", x = \"topright\", bty = \"n\"), #Display key to distinguish colors\n",
        "beside = TRUE) #make chart more readable with side by side bars"
      ],
      "metadata": {
        "colab": {
          "base_uri": "https://localhost:8080/",
          "height": 437
        },
        "id": "_Jj8LHSq306M",
        "outputId": "09cca28a-1c44-4662-e0ab-51ecb070c7b8"
      },
      "execution_count": 266,
      "outputs": [
        {
          "output_type": "display_data",
          "data": {
            "text/plain": [
              "plot without title"
            ],
            "image/png": "[encoded data removed]"
          },
          "metadata": {
            "image/png": {
              "width": 420,
              "height": 420
            }
          }
        }
      ]
    },
    {
      "cell_type": "markdown",
      "source": [
        "Even though the sample size is smaller than before, with only people over 40, the proportions between male and female are still relatively the same for marital status. Males are still ahead in \"Married-civ-spouse\" by a substantial margin. The gap between males and females is closer for \"Never-married,\" but males still have more. The difference between males and females for \"Married-spouse-absent\" is exactly 9 again with males having more. Females are still leading in divorced, separated and widowed. The one difference is that males now have more than females in \"Married-AF-spouse\" even though the overall numbers are very small (1 vs 0)."
      ],
      "metadata": {
        "id": "xkCNM6ll4J2y"
      }
    },
    {
      "cell_type": "markdown",
      "source": [
        "## 6. Determine whether any outliers exist for the education field."
      ],
      "metadata": {
        "id": "t6Q1TzEJ4Om7"
      }
    },
    {
      "cell_type": "code",
      "source": [
        "summary(adult_training$education)"
      ],
      "metadata": {
        "colab": {
          "base_uri": "https://localhost:8080/",
          "height": 52
        },
        "id": "Bl2Vi8Ah4Pol",
        "outputId": "36cb1de7-0b49-4d30-c51e-728a62e5e147"
      },
      "execution_count": 267,
      "outputs": [
        {
          "output_type": "display_data",
          "data": {
            "text/plain": [
              "   Min. 1st Qu.  Median    Mean 3rd Qu.    Max. \n",
              "   1.00    9.00   10.00   10.07   12.00   16.00 "
            ]
          },
          "metadata": {}
        }
      ]
    },
    {
      "cell_type": "code",
      "source": [
        "#Create a new column and scale the education data\n",
        "adult_training$scaled_education <- scale(x = adult_training$education)\n",
        "#Print out the summary of the new scaled column\n",
        "summary(adult_training$scaled_education)"
      ],
      "metadata": {
        "colab": {
          "base_uri": "https://localhost:8080/",
          "height": 139
        },
        "id": "zAxNFkH65zfx",
        "outputId": "d291c0cd-7818-47de-ca39-f87d5f2715d9"
      },
      "execution_count": 268,
      "outputs": [
        {
          "output_type": "display_data",
          "data": {
            "text/plain": [
              "       V1          \n",
              " Min.   :-3.49029  \n",
              " 1st Qu.:-0.41135  \n",
              " Median :-0.02648  \n",
              " Mean   : 0.00000  \n",
              " 3rd Qu.: 0.74326  \n",
              " Max.   : 2.28273  "
            ]
          },
          "metadata": {}
        }
      ]
    },
    {
      "cell_type": "code",
      "source": [
        "#Define the 3 sigma rule for determining outliers\n",
        "threeSigRuleEd <- (adult_training$scaled_education > 3) | (adult_training$scaled_education < -3)\n",
        "#Create a variable that tracks the outliers using the 3 sigma rule\n",
        "education_outliers <- adult_training$scaled_education[which(threeSigRuleEd)]\n",
        "\n",
        "#Print out the number of education outliers\n",
        "cat(\"number of outliers in education =\", length(education_outliers))\n"
      ],
      "metadata": {
        "colab": {
          "base_uri": "https://localhost:8080/"
        },
        "id": "KL0TjrYV7QNR",
        "outputId": "f3441e80-cbd8-4818-f84b-da1bc82c2a8a"
      },
      "execution_count": 269,
      "outputs": [
        {
          "output_type": "stream",
          "name": "stdout",
          "text": [
            "number of outliers in education = 113"
          ]
        }
      ]
    },
    {
      "cell_type": "code",
      "source": [
        "plot(density(adult_training$scaled_education, bw = 0.5), main = \"Density Plot for Scaled Education Outliers\", xlab = \"Scaled Education\")"
      ],
      "metadata": {
        "colab": {
          "base_uri": "https://localhost:8080/",
          "height": 437
        },
        "id": "D4dKdq0M_65w",
        "outputId": "b384476c-4bc0-46f8-8476-8d70f983eeaf"
      },
      "execution_count": 270,
      "outputs": [
        {
          "output_type": "display_data",
          "data": {
            "text/plain": [
              "Plot with title “Density Plot for Scaled Education Outliers”"
            ],
            "image/png": "[encoded data removed]"
          },
          "metadata": {
            "image/png": {
              "width": 420,
              "height": 420
            }
          }
        }
      ]
    },
    {
      "cell_type": "markdown",
      "source": [
        "First I displayed the original education data, then I scaled it to determine the outliers. I concluded that there are a total of 113 outliers out of 14797 values in education. Displaying the count of outliers, the described table, and the density curve allow the viewer to visualize the few outliers that appear in \"eduation.\" As you can see, the code for defining outliers and scaling data is much simpler in R than in Python."
      ],
      "metadata": {
        "id": "OxapQeeFAOZL"
      }
    },
    {
      "cell_type": "markdown",
      "source": [
        "## 7. Standardize (zero mean) the age variable, and identify how many outliers there are. What is the most extreme outlier?"
      ],
      "metadata": {
        "id": "7PMBNNuxAeyT"
      }
    },
    {
      "cell_type": "code",
      "source": [
        "summary(adult_training$age)"
      ],
      "metadata": {
        "colab": {
          "base_uri": "https://localhost:8080/",
          "height": 52
        },
        "id": "74BI1aJQAekp",
        "outputId": "eee2168e-dc1a-48b4-d523-9b0799ba9956"
      },
      "execution_count": 271,
      "outputs": [
        {
          "output_type": "display_data",
          "data": {
            "text/plain": [
              "   Min. 1st Qu.  Median    Mean 3rd Qu.    Max. \n",
              "  17.00   28.00   37.00   38.69   48.00   90.00 "
            ]
          },
          "metadata": {}
        }
      ]
    },
    {
      "cell_type": "code",
      "source": [
        "#Create a new column and scale the age data\n",
        "adult_training$scaled_age <- scale(x = adult_training$age)\n",
        "#Print out the summary of the new scaled column\n",
        "summary(adult_training$scaled_age)"
      ],
      "metadata": {
        "colab": {
          "base_uri": "https://localhost:8080/",
          "height": 139
        },
        "id": "2_NODB9bA3Ot",
        "outputId": "b3e0ea7e-d7e5-4bbb-dc41-916d11f9d81e"
      },
      "execution_count": 272,
      "outputs": [
        {
          "output_type": "display_data",
          "data": {
            "text/plain": [
              "       V1         \n",
              " Min.   :-1.5855  \n",
              " 1st Qu.:-0.7813  \n",
              " Median :-0.1234  \n",
              " Mean   : 0.0000  \n",
              " 3rd Qu.: 0.6808  \n",
              " Max.   : 3.7512  "
            ]
          },
          "metadata": {}
        }
      ]
    },
    {
      "cell_type": "code",
      "source": [
        "#Define the 3 sigma rule for determining outliers\n",
        "threeSigRuleAge <- (adult_training$scaled_age > 3) | (adult_training$scaled_age < -3)\n",
        "#Create a variable that tracks the outliers using the 3 sigma rule\n",
        "age_outliers <- adult_training$scaled_age[which(threeSigRuleAge)]\n",
        "\n",
        "#Print out the number of age outliers\n",
        "cat(\"number of outliers in age =\", length(age_outliers))"
      ],
      "metadata": {
        "colab": {
          "base_uri": "https://localhost:8080/"
        },
        "id": "5Cr_aFRpD6m9",
        "outputId": "4a38aa01-15a0-48f9-da27-2daac6117187"
      },
      "execution_count": 273,
      "outputs": [
        {
          "output_type": "stream",
          "name": "stdout",
          "text": [
            "number of outliers in age = 60"
          ]
        }
      ]
    },
    {
      "cell_type": "code",
      "source": [
        "plot(density(adult_training$scaled_age, bw = 0.5), main = \"Density Plot for Scaled Age Outliers\", xlab = \"Scaled Age\")"
      ],
      "metadata": {
        "colab": {
          "base_uri": "https://localhost:8080/",
          "height": 437
        },
        "id": "T0_iep3aFyGL",
        "outputId": "546ff153-3ff2-40c7-8a5f-f4ef27d1ac9d"
      },
      "execution_count": 274,
      "outputs": [
        {
          "output_type": "display_data",
          "data": {
            "text/plain": [
              "Plot with title “Density Plot for Scaled Age Outliers”"
            ],
            "image/png": "[encoded data removed]"
          },
          "metadata": {
            "image/png": {
              "width": 420,
              "height": 420
            }
          }
        }
      ]
    },
    {
      "cell_type": "markdown",
      "source": [
        "To determine the outliers, I went through the same process I did as education.The graphs and tables visualize the data where there is a total of 60 outliers.The most extreme outlier is the maximum value, which is 90. This value checks all the boxes of being an outlier through the steps I went through above and it is the most extreme because it is the farthest away from any of the quartiles (specifically Q3). The max is > 3 which classifies it as an outlier and you can see right before +4 that the density curve has not fully flattened out yet."
      ],
      "metadata": {
        "id": "jVtw2IZqF_3g"
      }
    },
    {
      "cell_type": "markdown",
      "source": [
        "## 8. Age anomaly? Select only records with age at least 80, and construct a histogram of age. Explain what you see."
      ],
      "metadata": {
        "id": "Z27-_IC-GOyf"
      }
    },
    {
      "cell_type": "code",
      "source": [
        "# Make a copy of the cleaned data set\n",
        "atLeast80 <- adult_training\n",
        "# Remove all values that are less than 80\n",
        "atLeast80 <- atLeast80[!(atLeast80$age < 80), ]\n",
        "# Display the new data frame\n",
        "print(atLeast80)"
      ],
      "metadata": {
        "colab": {
          "base_uri": "https://localhost:8080/"
        },
        "id": "9l0_6PB5GtpJ",
        "outputId": "ec04f9af-d35d-4f98-f4b2-c667785d3f0d"
      },
      "execution_count": 275,
      "outputs": [
        {
          "output_type": "stream",
          "name": "stdout",
          "text": [
            "\u001b[90m# A tibble: 60 × 11\u001b[39m\n",
            "     age workclass    education `marital-status` occupation sex   `capital-gain`\n",
            "   \u001b[3m\u001b[90m<dbl>\u001b[39m\u001b[23m \u001b[3m\u001b[90m<chr>\u001b[39m\u001b[23m            \u001b[3m\u001b[90m<dbl>\u001b[39m\u001b[23m \u001b[3m\u001b[90m<chr>\u001b[39m\u001b[23m            \u001b[3m\u001b[90m<chr>\u001b[39m\u001b[23m      \u001b[3m\u001b[90m<chr>\u001b[39m\u001b[23m          \u001b[3m\u001b[90m<dbl>\u001b[39m\u001b[23m\n",
            "\u001b[90m 1\u001b[39m    90 Private              9 Never-married    Other-ser… Male           \u001b[4m7\u001b[24m637.\n",
            "\u001b[90m 2\u001b[39m    80 ?                    9 Widowed          ?          Male           \u001b[4m7\u001b[24m637.\n",
            "\u001b[90m 3\u001b[39m    90 Private              9 Never-married    Other-ser… Fema…          \u001b[4m7\u001b[24m637.\n",
            "\u001b[90m 4\u001b[39m    88 Self-emp-no…        15 Married-civ-spo… Prof-spec… Male           \u001b[4m7\u001b[24m637.\n",
            "\u001b[90m 5\u001b[39m    90 Private             13 Married-civ-spo… Exec-mana… Male           \u001b[4m7\u001b[24m637.\n",
            "\u001b[90m 6\u001b[39m    90 Private             10 Never-married    Other-ser… Male           \u001b[4m7\u001b[24m637.\n",
            "\u001b[90m 7\u001b[39m    82 ?                    4 Widowed          ?          Male           \u001b[4m7\u001b[24m637.\n",
            "\u001b[90m 8\u001b[39m    90 Private              5 Never-married    Adm-cleri… Fema…          \u001b[4m7\u001b[24m637.\n",
            "\u001b[90m 9\u001b[39m    80 Private             14 Widowed          Prof-spec… Fema…          \u001b[4m7\u001b[24m637.\n",
            "\u001b[90m10\u001b[39m    90 Local-gov           14 Married-civ-spo… Exec-mana… Male          \u001b[4m2\u001b[24m\u001b[4m0\u001b[24m051 \n",
            "\u001b[90m# ℹ 50 more rows\u001b[39m\n",
            "\u001b[90m# ℹ 4 more variables: `capital-loss` <dbl>, income <chr>,\u001b[39m\n",
            "\u001b[90m#   scaled_education <dbl[,1]>, scaled_age <dbl[,1]>\u001b[39m\n"
          ]
        }
      ]
    },
    {
      "cell_type": "code",
      "source": [
        "#Make code more readable by selecting necessary columns and putting into a variable\n",
        "selected_cols <- atLeast80[c('age', 'education', 'capital-gain', 'capital-loss')]\n",
        "#Make a for loop to print out each histogram\n",
        "\n",
        "#Set up 2x2 grid of histograms to match the Python one\n",
        "par(mfrow = c(2, 2))\n",
        "\n",
        "for (col in colnames(selected_cols)) {\n",
        "  hist(selected_cols[[col]],\n",
        "       col = 'orange',\n",
        "       border = 'black',\n",
        "       main = paste(\"Histogram for\", col),\n",
        "       xlab = col,\n",
        "       ylab = \"Frequency\",\n",
        "       breaks = 5,\n",
        "       right = FALSE)\n",
        "}\n",
        "\n",
        ""
      ],
      "metadata": {
        "colab": {
          "base_uri": "https://localhost:8080/",
          "height": 437
        },
        "id": "eNcxcTBeHl8t",
        "outputId": "882c920c-124a-41be-c9e0-28299d3cf1da"
      },
      "execution_count": 276,
      "outputs": [
        {
          "output_type": "display_data",
          "data": {
            "text/plain": [
              "Plot with title “Histogram for capital-loss”"
            ],
            "image/png": "[encoded data removed]"
          },
          "metadata": {
            "image/png": {
              "width": 420,
              "height": 420
            }
          }
        }
      ]
    },
    {
      "cell_type": "markdown",
      "source": [
        "The one thing that I noticed in the histograms for those who are the age of 80 or older is that there tends to be one section that occurs much more frequently than the others for each chart. The ages between 88 and 90 take up about 25% of this data set. The next values are 15%. For 'education,' the values between about 8 to 10 occur over 25% of the time as well. The next values are about 12%. For 'capital-gain' the values between about 8000 to 10000 occur almost 60% of the time. 'Capital-loss' also takes up almost 60% with the values between about 1500 and 2300. The percentages for all of the other value ranges for both 'capital-gain' and 'capital-loss' do not individually add up to more than 5%. The reason for so many of the capital gain and loss values being in the same range could be due to the fact that many of their values were originally missing or incorrect and needed to be imputed as the average. A notable difference between R and Python is that I needed a for loop to print out all of the histograms in this problem. Also in R, I found that the default for histograms is that the right bound of each bar is included(]). I had to set this to false to match the Python histograms and make it more understandable."
      ],
      "metadata": {
        "id": "CQgTiqmxLCyt"
      }
    },
    {
      "cell_type": "markdown",
      "source": [
        "## 9. Summarize your findings.\n",
        "\n",
        "\n",
        "- I originally discovered that there was some issues with the values in the data set. I had to clean the data set of any noise and impute the necessary averages to make sure all of the inputs were valid.\n",
        "- When taking a look at sex vs workclass, I noticed that many more males than females were recorded in this data set. Males were higher in almost every work class by a substantial margin. The ones labeled ?,' 'never-worked,' and 'without-pay' were the closest between the sexes.\n",
        "- When comparing sexes to marital status, I noticed that females were higher than males in 'divorced,' 'separated,' and 'widowed.' For 'married-civ-spouse,' males had a much larger margin over females. Other than that, the values between the sexes were much more negligible.\n",
        "- When lowering the range to people over 40, the ratios mostly stayed the same between males and females. The one difference is that males had more than females in \"Married-AF-spouse\" even though the overall numbers are very small (1 vs 0).\n",
        "- I found that there were 113 outliers in the 'education' column by scaled the data and using the 3-sigma rule. I used the same methods to discover that there were 60 outliers in the 'age' column. The most extreme age outlier is 90.\n",
        "- When taking a look at the data set for people who are at least 80 years old, I noticed that there was a trend where a few values in a range would appear much more than the rest of the values. Many of the values were also the same due to imputing in the beginning.\n",
        "- R has simpler syntax than Python in some aspects such as scaling"
      ],
      "metadata": {
        "id": "JL3sALa1LLqK"
      }
    },
    {
      "cell_type": "markdown",
      "source": [
        "### Sources\n",
        "- https://github.com/bforoura/IDS/blob/main/Portuguese_Bank_Python.ipynb\n",
        "- https://github.com/bforoura/IDS/blob/main/HW4/adult_training.csv"
      ],
      "metadata": {
        "id": "d-dE-WqNLyAq"
      }
    }
  ]
}